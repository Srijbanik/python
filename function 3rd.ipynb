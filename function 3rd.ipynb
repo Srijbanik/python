{
 "cells": [
  {
   "cell_type": "markdown",
   "metadata": {
    "id": "VyLVgBz9nSiQ"
   },
   "source": [
    "FUNCTIONS\n",
    "Theory"
   ]
  },
  {
   "cell_type": "markdown",
   "metadata": {
    "id": "Zor_AG-pnu3B"
   },
   "source": [
    "1. What is the difference between a function and a method in Python?\n",
    "-  FUNCTION\n",
    "-  A block of resuable code that peforms a specific task.\n",
    "-  Define using def keyword.\n",
    "-  facilitate the creation of modular code , simplyfing maintenance.\n",
    "\n",
    "-  METHODS\n",
    "-  It is associated with an object.\n",
    "-  It is automatically take the object as their firsst argument\n",
    "-  It is called on an instance or class\n"
   ]
  },
  {
   "cell_type": "code",
   "execution_count": 2,
   "metadata": {
    "colab": {
     "base_uri": "https://localhost:8080/"
    },
    "id": "-rMBiFG0pWr5",
    "outputId": "b5de9470-0ed1-41c8-f228-0f16a9534a6e"
   },
   "outputs": [
    {
     "name": "stdout",
     "output_type": "stream",
     "text": [
      "5\n",
      "[1, 2, 3, 4, 5]\n"
     ]
    }
   ],
   "source": [
    "#Question no 1\n",
    "#Function\n",
    "def sum (a,b):\n",
    "  return a+b\n",
    "print(sum(2,3))\n",
    "\n",
    "\n",
    "#Methods\n",
    "list=[1,2,3,4]\n",
    "list.append(5)\n",
    "print(list)"
   ]
  },
  {
   "cell_type": "markdown",
   "metadata": {
    "id": "Y5kMIiaHp86w"
   },
   "source": [
    "2. Explain the concept of function arguments and parameters in Python?\n",
    "-  PARAMETERS\n",
    "-  It is Variables passed into the function.\n",
    "-  Functions can have multiple parameters or none at all.\n",
    "-  ARGUMENTS\n",
    "-  The actual values you pass to the function when you call it.\n",
    "-  It can replace the value of parameters during the call.\n"
   ]
  },
  {
   "cell_type": "code",
   "execution_count": 10,
   "metadata": {
    "colab": {
     "base_uri": "https://localhost:8080/"
    },
    "id": "k0yy1jn3q7RD",
    "outputId": "4bc2bdf3-eacf-480a-d1ca-ebfd5353b330"
   },
   "outputs": [
    {
     "name": "stdout",
     "output_type": "stream",
     "text": [
      "hello,mann\n"
     ]
    }
   ],
   "source": [
    "#question no 2\n",
    "#Parameters\n",
    "def greet(name): # here 'name' is parameter\n",
    "  print(f\"hello,{name}\")\n",
    "\n",
    "#ARGUMNETS\n",
    "greet(\"mann\") # here \"mann\" is argument"
   ]
  },
  {
   "cell_type": "markdown",
   "metadata": {
    "id": "m02Jua75suvv"
   },
   "source": [
    "3. What are the different ways to define and call a function in Python?\n",
    "-  Ways to define a function in python are follows:-\n",
    "-  Standard the 'def' key\n",
    "-  Functions with parameters\n",
    "-  Function with default parameters\n",
    "-  Function with variable number of arguments\n",
    "-  Lambda functions.\n",
    "\n",
    "-  Ways to call a function in python are follows:-\n",
    "-  Positional arguments\n",
    "-  Keyword arguments\n",
    "-  Mixing positional and keyword\n",
    "-  unpacking arguments"
   ]
  },
  {
   "cell_type": "code",
   "execution_count": 20,
   "metadata": {
    "colab": {
     "base_uri": "https://localhost:8080/"
    },
    "id": "n5GKcyziuYND",
    "outputId": "386ff02b-f288-432f-abbe-178647d8ae0e"
   },
   "outputs": [
    {
     "name": "stdout",
     "output_type": "stream",
     "text": [
      "hello,mann\n",
      "55\n",
      "hello,mann\n",
      "hello,mann\n",
      "hello,mann\n",
      "hello,mann\n",
      "hello,john\n",
      "hello,doe\n"
     ]
    }
   ],
   "source": [
    "#Question no 3\n",
    "#Ways to define a function in python are follows:-\n",
    "#Standard the 'def' key\n",
    "def hello():\n",
    "  print(\"hello\")\n",
    "\n",
    "#Functions with parameters\n",
    "def greet(name):\n",
    "  print(f\"hello,{name}\")\n",
    "\n",
    "#Function with default parameters\n",
    "def greet(name=\"mann\"):\n",
    "  print(f\"hello,{name}\")\n",
    "\n",
    "#Function with variable number of arguments\n",
    "def greet(*names):\n",
    "  for name in names:\n",
    "   print(f\"hello,{name}\")\n",
    "greet(\"mann\")\n",
    "\n",
    "#Lambda functions.\n",
    "fib = lambda n : n if n <= 1 else fib(n-1) + fib(n-2)\n",
    "[fib(i)for i in range (10)]\n",
    "print(fib(10))\n",
    "\n",
    "#Ways to call a function in python are follows:-\n",
    "#Positional arguments\n",
    "def greet(name,message):\n",
    "  print(f\"{message},{name}\")\n",
    "greet(\"mann\",\"hello\")\n",
    "\n",
    "#Keyword arguments\n",
    "def greet(name,message):\n",
    "  print(f\"{message},{name}\")\n",
    "greet(name=\"mann\",message=\"hello\")\n",
    "\n",
    "#-  Mixing positional and keyword\n",
    "def greet(name,message=\"hello\"):\n",
    "  print(f\"{message},{name}\")\n",
    "greet(\"mann\")\n",
    "\n",
    "#Unpacking arguments\n",
    "def greet(*names):\n",
    "  for name in names:\n",
    "    print(f\"hello,{name}\")\n",
    "greet(\"mann\",\"john\",\"doe\")\n"
   ]
  },
  {
   "cell_type": "markdown",
   "metadata": {
    "id": "kv7QjZeZx8l1"
   },
   "source": [
    "4. What is the purpose of the `return` statement in a Python function?\n",
    "-  The purpose of the return statement in a python function is send data back  \n",
    "   to where the function was called, allow the result to be stored, print."
   ]
  },
  {
   "cell_type": "code",
   "execution_count": 21,
   "metadata": {
    "colab": {
     "base_uri": "https://localhost:8080/"
    },
    "id": "8o3aR3y9yeSk",
    "outputId": "03858278-1e03-4817-b508-a6065f515b48"
   },
   "outputs": [
    {
     "name": "stdout",
     "output_type": "stream",
     "text": [
      "5\n"
     ]
    }
   ],
   "source": [
    "#Question no 4\n",
    "def add(a,b):\n",
    "  return a+b\n",
    "result=add(2,3)\n",
    "print(result)"
   ]
  },
  {
   "cell_type": "markdown",
   "metadata": {
    "id": "wPgh7E13ymVm"
   },
   "source": [
    "5. What are iterators in Python and how do they differ from iterables?\n",
    "-  An iterator is an object that allows traversal through a countable number of\n",
    "   values. It is used to iterate over iterable objects like lists, tuples, sets, etc.\n",
    "-  Example- iter, next etc\n",
    "\n",
    "-  An iterable is any object in python that can return its elements one at a  \n",
    "   time.\n",
    "-  Example- list , tuple, string, set , dict, etc."
   ]
  },
  {
   "cell_type": "code",
   "execution_count": 23,
   "metadata": {
    "colab": {
     "base_uri": "https://localhost:8080/"
    },
    "id": "EBVkEOgyztSD",
    "outputId": "faf534c3-6ec8-41f2-9a5c-9431df23dc89"
   },
   "outputs": [
    {
     "name": "stdout",
     "output_type": "stream",
     "text": [
      "2\n",
      "4\n",
      "6\n",
      "8\n",
      "10\n",
      "2\n",
      "4\n",
      "6\n",
      "8\n",
      "10\n",
      "16\n",
      "18\n",
      "20\n"
     ]
    }
   ],
   "source": [
    "#Question no 5\n",
    "#ITERATOR-\n",
    "LIST=[2,4,6,8,10,16,18,20]\n",
    "ITERATOR=iter(LIST)\n",
    "print(next(ITERATOR))\n",
    "print(next(ITERATOR))\n",
    "print(next(ITERATOR))\n",
    "print(next(ITERATOR))\n",
    "print(next(ITERATOR))\n",
    "\n",
    "#ITERABLE\n",
    "for i in LIST: #LIST is an iterable\n",
    "    print(i)"
   ]
  },
  {
   "cell_type": "markdown",
   "metadata": {
    "id": "LaVJXSb40aKK"
   },
   "source": [
    "6. Explain the concept of generators in Python and how they are defined?\n",
    "-  Generators are a simple way to create iterators using functions and the  \n",
    "   yield keyword instead of returning values.\n",
    "\n",
    "- There are two main ways to define Generators are-\n",
    "- Yeld\n",
    "- Using generator sign()."
   ]
  },
  {
   "cell_type": "code",
   "execution_count": 26,
   "metadata": {
    "colab": {
     "base_uri": "https://localhost:8080/"
    },
    "id": "qfOKk6U01vcu",
    "outputId": "cc76ba91-eef7-4734-939f-3af8d9a1991a"
   },
   "outputs": [
    {
     "name": "stdout",
     "output_type": "stream",
     "text": [
      "1\n",
      "2\n",
      "3\n",
      "0\n",
      "1\n",
      "4\n",
      "9\n",
      "16\n",
      "25\n",
      "36\n",
      "49\n",
      "64\n",
      "81\n"
     ]
    }
   ],
   "source": [
    "#Question no 6\n",
    "#Yeild\n",
    "def count_test(n):\n",
    "    count = 1\n",
    "    while count <= n:\n",
    "        yield count\n",
    "        count = count + 1\n",
    "c = count_test(5)\n",
    "print(next(c))\n",
    "print(next(c))\n",
    "print(next(c))\n",
    "\n",
    "#Using generator sign()\n",
    "gen = (x*x for x in range(10))\n",
    "for num in gen:\n",
    "    print(num)"
   ]
  },
  {
   "cell_type": "markdown",
   "metadata": {
    "id": "Y3bBLXIq3JGc"
   },
   "source": [
    "7. What are the advantages of using generators over regular functions?\n",
    "-  Efficient Memory Usage: Generators do not store the entire sequence in\n",
    "   memory, making them suitable for large datasets or infinite sequences.\n",
    "-  Simpler Syntax: Using yield simplifies the creation of iterators, making the\n",
    "   code more concise and readable."
   ]
  },
  {
   "cell_type": "code",
   "execution_count": 27,
   "metadata": {
    "id": "Lk-s5UqR3m0V"
   },
   "outputs": [],
   "source": [
    "#Question no\n",
    "#Efficient Memory usage\n",
    "def count_up_to_list(n):\n",
    "  return [i for i in range(n)] #All values stored at once\n"
   ]
  },
  {
   "cell_type": "markdown",
   "metadata": {
    "id": "bGhV2R814l0L"
   },
   "source": [
    "8. What is a lambda function in Python and when is it typically used?\n",
    "-  Lambda functions are small, anonymous functions defined using the lambda\n",
    "   keyword. They are used for creating small, throwaway functions without the need to formally define a function using def.\n",
    "-  SYNTAX: lambda argument,expression.\n",
    "-  When lambda is typically use-\n",
    "-  As arguments to higher-order functions.\n",
    "-  For sorting custom keys with sorted()\n",
    "\n",
    "\n",
    "\n",
    "\n"
   ]
  },
  {
   "cell_type": "code",
   "execution_count": 28,
   "metadata": {
    "colab": {
     "base_uri": "https://localhost:8080/"
    },
    "id": "AlJ54yYu5u_A",
    "outputId": "687e96a6-0dd3-41e3-f0b9-f9cea3df9631"
   },
   "outputs": [
    {
     "name": "stdout",
     "output_type": "stream",
     "text": [
      "55\n"
     ]
    }
   ],
   "source": [
    "#Question no 8\n",
    "#lambda\n",
    "fib = lambda n : n if n <= 1 else fib(n-1) + fib(n-2)\n",
    "print(fib(10))"
   ]
  },
  {
   "cell_type": "markdown",
   "metadata": {
    "id": "ISWnYxsQ5-0_"
   },
   "source": [
    "9. Explain the purpose and usage of the `map()` function in Python?\n",
    "-  The purpose of the map is-\n",
    "-  To transform each elements in a collection using function, It gives function\n",
    "   to all items in input itreable and returns an iterator with the result.\n",
    "\n",
    "-  The usage of the map-\n",
    "-  Apply a function to each element\n",
    "-  Convert data type\n",
    "-  Format string\n",
    "-  Combine two list"
   ]
  },
  {
   "cell_type": "code",
   "execution_count": 84,
   "metadata": {
    "id": "3IRssmz67dvz"
   },
   "outputs": [],
   "source": [
    "#Question no 9\n",
    "#map\n",
    "numbers=[1,2,3,4,5]\n",
    "squared=(map(lambda x:x**2,numbers))\n",
    "print(list(squared))\n"
   ]
  },
  {
   "cell_type": "markdown",
   "metadata": {
    "id": "d3huRcSJ8yNA"
   },
   "source": [
    "10. What is the difference between `map()`, `reduce()`, and `filter()` functions in Python?\n",
    "\n",
    "-  Map -\n",
    "-  Applies a function to each item.\n",
    "-  Returns a map object(an iterable)\n",
    "\n",
    "-  Reduce -\n",
    "-  Applies a function cumulatively to reduce the iterable to a single value\n",
    "-  Returns a single value\n",
    "-  Import from functools\n",
    "\n",
    "-  Filter -\n",
    "-  Filters elements based on function's True/False."
   ]
  },
  {
   "cell_type": "code",
   "execution_count": 83,
   "metadata": {
    "id": "b5wsCW0I9rTe"
   },
   "outputs": [],
   "source": [
    "#Question no 10.\n",
    "#Map\n",
    "numbers=[1,2,3,4,5]\n",
    "squared=(map(lambda x:x**2,numbers))\n",
    "print(list(squared))\n",
    "\n",
    "#Reduce\n",
    "from functools import reduce\n",
    "numbers=[1,2,3,4,5]\n",
    "product=reduce(lambda x,y:x*y,numbers)\n",
    "print(product)\n",
    "\n",
    "#Filter\n",
    "numbers=[1,2,3,4,5]\n",
    "even=list(filter(lambda x:x%2==0,numbers))\n",
    "print(even)\n"
   ]
  },
  {
   "cell_type": "markdown",
   "metadata": {
    "id": "s0XAfZHRM3_F"
   },
   "source": [
    "11. Using pen & Paper write the internal mechanism for sum operation using  reduce function on this given\n",
    "list:[47,11,42,13];\n",
    "(Attach paper image for this answer) in doc or colab notebook.\n",
    "\n",
    "![IMG-20250423-WA0004.jpg](data:image/jpeg;base64,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)"
   ]
  },
  {
   "cell_type": "markdown",
   "metadata": {
    "id": "VmBUy5aH-WHk"
   },
   "source": [
    "Practical"
   ]
  },
  {
   "cell_type": "code",
   "execution_count": 44,
   "metadata": {
    "colab": {
     "base_uri": "https://localhost:8080/"
    },
    "id": "MhJWhCjb_PTc",
    "outputId": "055fc302-fe7b-4152-aefc-43cc64cc85aa"
   },
   "outputs": [
    {
     "name": "stdout",
     "output_type": "stream",
     "text": [
      "20\n"
     ]
    }
   ],
   "source": [
    "#1. Write a Python function that takes a list of numbers as input and returns the sum of all even numbers in the list?\n",
    "def sum_even_numbers(numbers):\n",
    "    sum = 0\n",
    "    for num in numbers:\n",
    "        if num % 2 == 0:\n",
    "            sum += num\n",
    "    return sum\n",
    "list = [1,2,3,4,5,6,8]\n",
    "print(sum_even_numbers(list))\n",
    "\n",
    "\n",
    "\n"
   ]
  },
  {
   "cell_type": "code",
   "execution_count": 45,
   "metadata": {
    "colab": {
     "base_uri": "https://localhost:8080/"
    },
    "id": "hxphhhjI_wWM",
    "outputId": "f65c151a-2c0d-49c2-a18c-adf443014a6c"
   },
   "outputs": [
    {
     "name": "stdout",
     "output_type": "stream",
     "text": [
      "nnam\n"
     ]
    }
   ],
   "source": [
    "#2. Create a Python function that accepts a string and returns the reverse of that string?\n",
    "def reverse_string(string):\n",
    "    return string[::-1]\n",
    "print(reverse_string(\"mann\"))"
   ]
  },
  {
   "cell_type": "code",
   "execution_count": 46,
   "metadata": {
    "colab": {
     "base_uri": "https://localhost:8080/"
    },
    "id": "C7BCLaz8_7Zw",
    "outputId": "cd7c6f71-157a-46e2-e929-bad2a260e9a4"
   },
   "outputs": [
    {
     "name": "stdout",
     "output_type": "stream",
     "text": [
      "[1, 4, 9, 16, 25]\n"
     ]
    }
   ],
   "source": [
    "#3. Implement a Python function that takes a list of integers and returns a new list containing the squares of each number?\n",
    "def square_numbers(numbers):\n",
    "    squares = []\n",
    "    for num in numbers:\n",
    "        squares.append(num ** 2)\n",
    "    return squares\n",
    "list = [1,2,3,4,5]\n",
    "print(square_numbers(list))"
   ]
  },
  {
   "cell_type": "code",
   "execution_count": 74,
   "metadata": {
    "colab": {
     "base_uri": "https://localhost:8080/"
    },
    "id": "vk2kHcEaAWJh",
    "outputId": "1646ad42-d1a8-4338-d8cd-cfff5ff7d183"
   },
   "outputs": [
    {
     "name": "stdout",
     "output_type": "stream",
     "text": [
      "1 is Not Prime\n",
      "1:Not Prime\n",
      "2 is Prime\n",
      "2:Prime\n",
      "3 is Prime\n",
      "3:Prime\n",
      "4 is Not Prime\n",
      "4:Not Prime\n",
      "5 is Prime\n",
      "5:Prime\n",
      "6 is Not Prime\n",
      "6:Not Prime\n",
      "7 is Prime\n",
      "7:Prime\n",
      "8 is Not Prime\n",
      "8:Not Prime\n",
      "9 is Not Prime\n",
      "9:Not Prime\n",
      "10 is Not Prime\n",
      "10:Not Prime\n",
      "11 is Prime\n",
      "11:Prime\n",
      "12 is Not Prime\n",
      "12:Not Prime\n",
      "13 is Prime\n",
      "13:Prime\n",
      "14 is Not Prime\n",
      "14:Not Prime\n",
      "15 is Not Prime\n",
      "15:Not Prime\n",
      "16 is Not Prime\n",
      "16:Not Prime\n",
      "17 is Prime\n",
      "17:Prime\n",
      "18 is Not Prime\n",
      "18:Not Prime\n",
      "19 is Prime\n",
      "19:Prime\n",
      "20 is Not Prime\n",
      "20:Not Prime\n",
      "21 is Not Prime\n",
      "21:Not Prime\n",
      "22 is Not Prime\n",
      "22:Not Prime\n",
      "23 is Prime\n",
      "23:Prime\n",
      "24 is Not Prime\n",
      "24:Not Prime\n",
      "25 is Not Prime\n",
      "25:Not Prime\n",
      "26 is Not Prime\n",
      "26:Not Prime\n",
      "27 is Not Prime\n",
      "27:Not Prime\n",
      "28 is Not Prime\n",
      "28:Not Prime\n",
      "29 is Prime\n",
      "29:Prime\n",
      "30 is Not Prime\n",
      "30:Not Prime\n",
      "31 is Prime\n",
      "31:Prime\n",
      "32 is Not Prime\n",
      "32:Not Prime\n",
      "33 is Not Prime\n",
      "33:Not Prime\n",
      "34 is Not Prime\n",
      "34:Not Prime\n",
      "35 is Not Prime\n",
      "35:Not Prime\n",
      "36 is Not Prime\n",
      "36:Not Prime\n",
      "37 is Prime\n",
      "37:Prime\n",
      "38 is Not Prime\n",
      "38:Not Prime\n",
      "39 is Not Prime\n",
      "39:Not Prime\n",
      "40 is Not Prime\n",
      "40:Not Prime\n",
      "41 is Prime\n",
      "41:Prime\n",
      "42 is Not Prime\n",
      "42:Not Prime\n",
      "43 is Prime\n",
      "43:Prime\n",
      "44 is Not Prime\n",
      "44:Not Prime\n",
      "45 is Not Prime\n",
      "45:Not Prime\n",
      "46 is Not Prime\n",
      "46:Not Prime\n",
      "47 is Prime\n",
      "47:Prime\n",
      "48 is Not Prime\n",
      "48:Not Prime\n",
      "49 is Not Prime\n",
      "49:Not Prime\n",
      "50 is Not Prime\n",
      "50:Not Prime\n",
      "51 is Not Prime\n",
      "51:Not Prime\n",
      "52 is Not Prime\n",
      "52:Not Prime\n",
      "53 is Prime\n",
      "53:Prime\n",
      "54 is Not Prime\n",
      "54:Not Prime\n",
      "55 is Not Prime\n",
      "55:Not Prime\n",
      "56 is Not Prime\n",
      "56:Not Prime\n",
      "57 is Not Prime\n",
      "57:Not Prime\n",
      "58 is Not Prime\n",
      "58:Not Prime\n",
      "59 is Prime\n",
      "59:Prime\n",
      "60 is Not Prime\n",
      "60:Not Prime\n",
      "61 is Prime\n",
      "61:Prime\n",
      "62 is Not Prime\n",
      "62:Not Prime\n",
      "63 is Not Prime\n",
      "63:Not Prime\n",
      "64 is Not Prime\n",
      "64:Not Prime\n",
      "65 is Not Prime\n",
      "65:Not Prime\n",
      "66 is Not Prime\n",
      "66:Not Prime\n",
      "67 is Prime\n",
      "67:Prime\n",
      "68 is Not Prime\n",
      "68:Not Prime\n",
      "69 is Not Prime\n",
      "69:Not Prime\n",
      "70 is Not Prime\n",
      "70:Not Prime\n",
      "71 is Prime\n",
      "71:Prime\n",
      "72 is Not Prime\n",
      "72:Not Prime\n",
      "73 is Prime\n",
      "73:Prime\n",
      "74 is Not Prime\n",
      "74:Not Prime\n",
      "75 is Not Prime\n",
      "75:Not Prime\n",
      "76 is Not Prime\n",
      "76:Not Prime\n",
      "77 is Not Prime\n",
      "77:Not Prime\n",
      "78 is Not Prime\n",
      "78:Not Prime\n",
      "79 is Prime\n",
      "79:Prime\n",
      "80 is Not Prime\n",
      "80:Not Prime\n",
      "81 is Not Prime\n",
      "81:Not Prime\n",
      "82 is Not Prime\n",
      "82:Not Prime\n",
      "83 is Prime\n",
      "83:Prime\n",
      "84 is Not Prime\n",
      "84:Not Prime\n",
      "85 is Not Prime\n",
      "85:Not Prime\n",
      "86 is Not Prime\n",
      "86:Not Prime\n",
      "87 is Not Prime\n",
      "87:Not Prime\n",
      "88 is Not Prime\n",
      "88:Not Prime\n",
      "89 is Prime\n",
      "89:Prime\n",
      "90 is Not Prime\n",
      "90:Not Prime\n",
      "91 is Not Prime\n",
      "91:Not Prime\n",
      "92 is Not Prime\n",
      "92:Not Prime\n",
      "93 is Not Prime\n",
      "93:Not Prime\n",
      "94 is Not Prime\n",
      "94:Not Prime\n",
      "95 is Not Prime\n",
      "95:Not Prime\n",
      "96 is Not Prime\n",
      "96:Not Prime\n",
      "97 is Prime\n",
      "97:Prime\n",
      "98 is Not Prime\n",
      "98:Not Prime\n",
      "99 is Not Prime\n",
      "99:Not Prime\n",
      "100 is Not Prime\n",
      "100:Not Prime\n",
      "101 is Prime\n",
      "101:Prime\n",
      "102 is Not Prime\n",
      "102:Not Prime\n",
      "103 is Prime\n",
      "103:Prime\n",
      "104 is Not Prime\n",
      "104:Not Prime\n",
      "105 is Not Prime\n",
      "105:Not Prime\n",
      "106 is Not Prime\n",
      "106:Not Prime\n",
      "107 is Prime\n",
      "107:Prime\n",
      "108 is Not Prime\n",
      "108:Not Prime\n",
      "109 is Prime\n",
      "109:Prime\n",
      "110 is Not Prime\n",
      "110:Not Prime\n",
      "111 is Not Prime\n",
      "111:Not Prime\n",
      "112 is Not Prime\n",
      "112:Not Prime\n",
      "113 is Prime\n",
      "113:Prime\n",
      "114 is Not Prime\n",
      "114:Not Prime\n",
      "115 is Not Prime\n",
      "115:Not Prime\n",
      "116 is Not Prime\n",
      "116:Not Prime\n",
      "117 is Not Prime\n",
      "117:Not Prime\n",
      "118 is Not Prime\n",
      "118:Not Prime\n",
      "119 is Not Prime\n",
      "119:Not Prime\n",
      "120 is Not Prime\n",
      "120:Not Prime\n",
      "121 is Not Prime\n",
      "121:Not Prime\n",
      "122 is Not Prime\n",
      "122:Not Prime\n",
      "123 is Not Prime\n",
      "123:Not Prime\n",
      "124 is Not Prime\n",
      "124:Not Prime\n",
      "125 is Not Prime\n",
      "125:Not Prime\n",
      "126 is Not Prime\n",
      "126:Not Prime\n",
      "127 is Prime\n",
      "127:Prime\n",
      "128 is Not Prime\n",
      "128:Not Prime\n",
      "129 is Not Prime\n",
      "129:Not Prime\n",
      "130 is Not Prime\n",
      "130:Not Prime\n",
      "131 is Prime\n",
      "131:Prime\n",
      "132 is Not Prime\n",
      "132:Not Prime\n",
      "133 is Not Prime\n",
      "133:Not Prime\n",
      "134 is Not Prime\n",
      "134:Not Prime\n",
      "135 is Not Prime\n",
      "135:Not Prime\n",
      "136 is Not Prime\n",
      "136:Not Prime\n",
      "137 is Prime\n",
      "137:Prime\n",
      "138 is Not Prime\n",
      "138:Not Prime\n",
      "139 is Prime\n",
      "139:Prime\n",
      "140 is Not Prime\n",
      "140:Not Prime\n",
      "141 is Not Prime\n",
      "141:Not Prime\n",
      "142 is Not Prime\n",
      "142:Not Prime\n",
      "143 is Not Prime\n",
      "143:Not Prime\n",
      "144 is Not Prime\n",
      "144:Not Prime\n",
      "145 is Not Prime\n",
      "145:Not Prime\n",
      "146 is Not Prime\n",
      "146:Not Prime\n",
      "147 is Not Prime\n",
      "147:Not Prime\n",
      "148 is Not Prime\n",
      "148:Not Prime\n",
      "149 is Prime\n",
      "149:Prime\n",
      "150 is Not Prime\n",
      "150:Not Prime\n",
      "151 is Prime\n",
      "151:Prime\n",
      "152 is Not Prime\n",
      "152:Not Prime\n",
      "153 is Not Prime\n",
      "153:Not Prime\n",
      "154 is Not Prime\n",
      "154:Not Prime\n",
      "155 is Not Prime\n",
      "155:Not Prime\n",
      "156 is Not Prime\n",
      "156:Not Prime\n",
      "157 is Prime\n",
      "157:Prime\n",
      "158 is Not Prime\n",
      "158:Not Prime\n",
      "159 is Not Prime\n",
      "159:Not Prime\n",
      "160 is Not Prime\n",
      "160:Not Prime\n",
      "161 is Not Prime\n",
      "161:Not Prime\n",
      "162 is Not Prime\n",
      "162:Not Prime\n",
      "163 is Prime\n",
      "163:Prime\n",
      "164 is Not Prime\n",
      "164:Not Prime\n",
      "165 is Not Prime\n",
      "165:Not Prime\n",
      "166 is Not Prime\n",
      "166:Not Prime\n",
      "167 is Prime\n",
      "167:Prime\n",
      "168 is Not Prime\n",
      "168:Not Prime\n",
      "169 is Not Prime\n",
      "169:Not Prime\n",
      "170 is Not Prime\n",
      "170:Not Prime\n",
      "171 is Not Prime\n",
      "171:Not Prime\n",
      "172 is Not Prime\n",
      "172:Not Prime\n",
      "173 is Prime\n",
      "173:Prime\n",
      "174 is Not Prime\n",
      "174:Not Prime\n",
      "175 is Not Prime\n",
      "175:Not Prime\n",
      "176 is Not Prime\n",
      "176:Not Prime\n",
      "177 is Not Prime\n",
      "177:Not Prime\n",
      "178 is Not Prime\n",
      "178:Not Prime\n",
      "179 is Prime\n",
      "179:Prime\n",
      "180 is Not Prime\n",
      "180:Not Prime\n",
      "181 is Prime\n",
      "181:Prime\n",
      "182 is Not Prime\n",
      "182:Not Prime\n",
      "183 is Not Prime\n",
      "183:Not Prime\n",
      "184 is Not Prime\n",
      "184:Not Prime\n",
      "185 is Not Prime\n",
      "185:Not Prime\n",
      "186 is Not Prime\n",
      "186:Not Prime\n",
      "187 is Not Prime\n",
      "187:Not Prime\n",
      "188 is Not Prime\n",
      "188:Not Prime\n",
      "189 is Not Prime\n",
      "189:Not Prime\n",
      "190 is Not Prime\n",
      "190:Not Prime\n",
      "191 is Prime\n",
      "191:Prime\n",
      "192 is Not Prime\n",
      "192:Not Prime\n",
      "193 is Prime\n",
      "193:Prime\n",
      "194 is Not Prime\n",
      "194:Not Prime\n",
      "195 is Not Prime\n",
      "195:Not Prime\n",
      "196 is Not Prime\n",
      "196:Not Prime\n",
      "197 is Prime\n",
      "197:Prime\n",
      "198 is Not Prime\n",
      "198:Not Prime\n",
      "199 is Prime\n",
      "199:Prime\n",
      "200 is Not Prime\n",
      "200:Not Prime\n"
     ]
    }
   ],
   "source": [
    "#4. Write a Python function that checks if a given number is prime or not from 1 to 200.?\n",
    "def is_prime(n):\n",
    "    if n < 2 or n > 200:\n",
    "        return False\n",
    "    for i in range(2, int(n ** 0.5) + 1):\n",
    "        if n % i == 0:\n",
    "            return False\n",
    "    return True\n",
    "for num in range(1, 201):\n",
    "   result=\"Prime\" if is_prime(num) else \"Not Prime\"\n",
    "   print(f\"{num} is {result}\")\n",
    "   print(f\"{num}:{result}\")\n"
   ]
  },
  {
   "cell_type": "code",
   "execution_count": 64,
   "metadata": {
    "colab": {
     "base_uri": "https://localhost:8080/"
    },
    "id": "KKj0jq3wBZMa",
    "outputId": "eb1148a1-68ca-4afd-de20-151454438fbf"
   },
   "outputs": [
    {
     "name": "stdout",
     "output_type": "stream",
     "text": [
      "0\n",
      "1\n",
      "1\n",
      "1\n",
      "2\n",
      "3\n",
      "5\n",
      "8\n",
      "13\n",
      "21\n"
     ]
    }
   ],
   "source": [
    "#5. Create an iterator class in Python that generates the Fibonacci sequence up to a specified number of terms?\n",
    "class FibonacciIterator:\n",
    "    def __init__(self, max_terms):\n",
    "        self.max_terms = max_terms\n",
    "        self.count = 0\n",
    "        self.a = 0\n",
    "        self.b = 1\n",
    "\n",
    "    def __iter__(self):\n",
    "        return self\n",
    "\n",
    "    def __next__(self):\n",
    "        if self.count >= self.max_terms:\n",
    "            raise StopIteration\n",
    "        if self.count == 0:\n",
    "            self.count += 1\n",
    "            return 0\n",
    "        elif self.count == 1:\n",
    "            self.count += 1\n",
    "            return 1\n",
    "        else:\n",
    "            self.a, self.b = self.b, self.a + self.b\n",
    "            self.count += 1\n",
    "            return self.a\n",
    "\n",
    "fib = FibonacciIterator(10)  # Generate first 10 Fibonacci numbers\n",
    "for num in fib:\n",
    "    print(num)\n",
    "\n"
   ]
  },
  {
   "cell_type": "code",
   "execution_count": 65,
   "metadata": {
    "colab": {
     "base_uri": "https://localhost:8080/"
    },
    "id": "9yZLExeUCbBj",
    "outputId": "9b15965e-db06-482a-822a-86d674655e13"
   },
   "outputs": [
    {
     "name": "stdout",
     "output_type": "stream",
     "text": [
      "1\n",
      "2\n",
      "4\n",
      "8\n",
      "16\n",
      "32\n"
     ]
    }
   ],
   "source": [
    "#6. Write a generator function in Python that yields the powers of 2 up to a given exponent?\n",
    "def power_of_two(exponent):\n",
    "    for i in range(exponent + 1):\n",
    "        yield 2 ** i\n",
    "for power in power_of_two(5):\n",
    "    print(power)"
   ]
  },
  {
   "cell_type": "code",
   "execution_count": null,
   "metadata": {
    "id": "G_yVEsOwC9mU"
   },
   "outputs": [],
   "source": [
    "#7. Implement a generator function that reads a file line by line and yields each line as a string?\n",
    "def read_lines(file_path):\n",
    "    with open(file_path, 'r') as file:\n",
    "        for line in file:\n",
    "            yield line.rstrip()\n",
    "for line in read_file_lines('example.txt'):\n",
    "    print(line)"
   ]
  },
  {
   "cell_type": "code",
   "execution_count": 68,
   "metadata": {
    "colab": {
     "base_uri": "https://localhost:8080/"
    },
    "id": "FDyGQ9fYC_7h",
    "outputId": "cb9c6070-ef95-48b0-a5df-5cd645758a40"
   },
   "outputs": [
    {
     "name": "stdout",
     "output_type": "stream",
     "text": [
      "[(5, 0), (4, 1), (2, 2), (1, 3)]\n"
     ]
    }
   ],
   "source": [
    "#8. Use a lambda function in Python to sort a list of tuples based on the second element of each tuple.?\n",
    "# List of tuples\n",
    "data = [(1, 3), (4, 1), (2, 2), (5, 0)]\n",
    "\n",
    "# Sort using lambda\n",
    "sorted_data = sorted(data, key=lambda x: x[1])\n",
    "\n",
    "print(sorted_data)\n"
   ]
  },
  {
   "cell_type": "code",
   "execution_count": 81,
   "metadata": {
    "id": "SoULoEqADN1Q"
   },
   "outputs": [],
   "source": [
    "#9. Write a Python program that uses `map()` to convert a list of temperatures from Celsius to Fahrenheit?\n",
    "def celsius_to_fahrenheit(celsius):\n",
    "    return (celsius * 9/5) + 32\n",
    "temperatures_celsius = [0, 10, 20, 30, 40]\n",
    "temperatures_fahrenheit = list(map(celsius_to_fahrenheit, temperatures_celsius))\n",
    "print(temperatures_fahrenheit)\n"
   ]
  },
  {
   "cell_type": "code",
   "execution_count": 73,
   "metadata": {
    "colab": {
     "base_uri": "https://localhost:8080/"
    },
    "id": "t2ciiXGHElsS",
    "outputId": "22b97956-b379-4b7f-e576-9fcc7c580ee7"
   },
   "outputs": [
    {
     "name": "stdout",
     "output_type": "stream",
     "text": [
      "Original:  Hello, this is a test string!\n",
      "Without vowels:  Hll, ths s  tst strng!\n"
     ]
    }
   ],
   "source": [
    "#10. Create a Python program that uses `filter()` to remove all the vowels from a given string?\n",
    "def remove_vowels(text):\n",
    "    vowels = 'aeiouAEIOU'\n",
    "\n",
    "    no_vowels = ''.join(filter(lambda char: char not in vowels, text))\n",
    "    return no_vowels\n",
    "\n",
    "\n",
    "input_string = \"Hello, this is a test string!\"\n",
    "result = remove_vowels(input_string)\n",
    "\n",
    "print(\"Original: \", input_string)\n",
    "print(\"Without vowels: \", result)\n"
   ]
  },
  {
   "cell_type": "code",
   "execution_count": 86,
   "metadata": {
    "id": "AyxzJZWBE6gD"
   },
   "outputs": [],
   "source": [
    "#11) Imagine an accounting routine used in a book shop. It works on a list with sublists\n",
    "#Write a Python program, which returns a list with 2-tuples. Each tuple consists of the order number and the\n",
    "# product of the price per item and the quantity. The product should be increased by 10,- € if the value of the\n",
    "# order is smaller than 100,00 €.\n",
    "# Write a Python program using lambda and map?\n",
    "\n",
    "order=[\n",
    "    [34587, \"Learning Python, Mark Lutz\", 4, 40.95],\n",
    "    [98762, \"Programming Python, Mark Lutz\", 5, 56.80],\n",
    "    [77226, \"Head First Python, Paul Barry\", 3, 32.95],\n",
    "    [88112, \"Einführung in Python3, Bernd Klein\", 3, 24.99]\n",
    "]\n",
    "result =list(map(lambda x: (x[0], x[2] * x[3]) if x[2] * x[3] >= 100 else (x[0], x[2] * x[3] + 10), order))\n",
    "print(result)\n",
    "\n"
   ]
  }
 ],
 "metadata": {
  "colab": {
   "provenance": []
  },
  "kernelspec": {
   "display_name": "Python 3 (ipykernel)",
   "language": "python",
   "name": "python3"
  },
  "language_info": {
   "codemirror_mode": {
    "name": "ipython",
    "version": 3
   },
   "file_extension": ".py",
   "mimetype": "text/x-python",
   "name": "python",
   "nbconvert_exporter": "python",
   "pygments_lexer": "ipython3",
   "version": "3.12.7"
  }
 },
 "nbformat": 4,
 "nbformat_minor": 4
}
